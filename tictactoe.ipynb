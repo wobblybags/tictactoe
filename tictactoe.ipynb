{
 "cells": [
  {
   "cell_type": "code",
   "execution_count": 54,
   "metadata": {},
   "outputs": [
    {
     "name": "stdout",
     "output_type": "stream",
     "text": [
      "[1, 2, 3]\n"
     ]
    }
   ],
   "source": [
    "print ([1,2,3,])"
   ]
  },
  {
   "cell_type": "code",
   "execution_count": 55,
   "metadata": {},
   "outputs": [],
   "source": [
    "def display(row1, row2, row3):\n",
    "    print (row1)\n",
    "    print (row2)\n",
    "    print (row3)"
   ]
  },
  {
   "cell_type": "code",
   "execution_count": 56,
   "metadata": {},
   "outputs": [
    {
     "ename": "NameError",
     "evalue": "name 'example_row' is not defined",
     "output_type": "error",
     "traceback": [
      "\u001b[1;31m---------------------------------------------------------------------------\u001b[0m",
      "\u001b[1;31mNameError\u001b[0m                                 Traceback (most recent call last)",
      "\u001b[1;32m<ipython-input-56-ff778b16284b>\u001b[0m in \u001b[0;36m<module>\u001b[1;34m\u001b[0m\n\u001b[0;32m      3\u001b[0m \u001b[0mrow3\u001b[0m \u001b[1;33m=\u001b[0m \u001b[1;33m[\u001b[0m\u001b[1;34m' '\u001b[0m\u001b[1;33m,\u001b[0m \u001b[1;34m' '\u001b[0m\u001b[1;33m,\u001b[0m \u001b[1;34m' '\u001b[0m\u001b[1;33m]\u001b[0m\u001b[1;33m\u001b[0m\u001b[1;33m\u001b[0m\u001b[0m\n\u001b[0;32m      4\u001b[0m \u001b[1;33m\u001b[0m\u001b[0m\n\u001b[1;32m----> 5\u001b[1;33m \u001b[0mdisplay\u001b[0m\u001b[1;33m(\u001b[0m\u001b[0mexample_row\u001b[0m\u001b[1;33m,\u001b[0m \u001b[0mexample_row\u001b[0m\u001b[1;33m,\u001b[0m \u001b[0mexample_row\u001b[0m\u001b[1;33m)\u001b[0m\u001b[1;33m\u001b[0m\u001b[1;33m\u001b[0m\u001b[0m\n\u001b[0m",
      "\u001b[1;31mNameError\u001b[0m: name 'example_row' is not defined"
     ]
    }
   ],
   "source": [
    "row1 = [' ', ' ', ' ']\n",
    "row2 = [' ', ' ', ' ']\n",
    "row3 = [' ', ' ', ' ']\n",
    "        \n",
    "display(example_row, example_row, example_row)"
   ]
  },
  {
   "cell_type": "code",
   "execution_count": 57,
   "metadata": {},
   "outputs": [],
   "source": [
    "row2[1] = 'X'"
   ]
  },
  {
   "cell_type": "code",
   "execution_count": 58,
   "metadata": {},
   "outputs": [
    {
     "name": "stdout",
     "output_type": "stream",
     "text": [
      "[' ', ' ', ' ']\n",
      "[' ', 'X', ' ']\n",
      "[' ', ' ', ' ']\n"
     ]
    }
   ],
   "source": [
    "display(row1, row2, row3)"
   ]
  },
  {
   "cell_type": "markdown",
   "metadata": {},
   "source": [
    "------"
   ]
  },
  {
   "cell_type": "markdown",
   "metadata": {},
   "source": [
    "# USER INPUT"
   ]
  },
  {
   "cell_type": "code",
   "execution_count": 1,
   "metadata": {},
   "outputs": [
    {
     "name": "stdout",
     "output_type": "stream",
     "text": [
      "Please pick a spot: \n"
     ]
    },
    {
     "data": {
      "text/plain": [
       "''"
      ]
     },
     "execution_count": 1,
     "metadata": {},
     "output_type": "execute_result"
    }
   ],
   "source": [
    "input(\"Please pick a spot: \")"
   ]
  },
  {
   "cell_type": "code",
   "execution_count": 2,
   "metadata": {},
   "outputs": [
    {
     "name": "stdout",
     "output_type": "stream",
     "text": [
      "Pick a spot, slag:\n"
     ]
    }
   ],
   "source": [
    "result = input(\"Pick a spot, slag:\")"
   ]
  },
  {
   "cell_type": "code",
   "execution_count": 3,
   "metadata": {},
   "outputs": [
    {
     "data": {
      "text/plain": [
       "''"
      ]
     },
     "execution_count": 3,
     "metadata": {},
     "output_type": "execute_result"
    }
   ],
   "source": [
    "result"
   ]
  },
  {
   "cell_type": "markdown",
   "metadata": {},
   "source": [
    "--------"
   ]
  },
  {
   "cell_type": "markdown",
   "metadata": {},
   "source": [
    "# Validating user input"
   ]
  },
  {
   "cell_type": "code",
   "execution_count": 4,
   "metadata": {},
   "outputs": [],
   "source": [
    "def user_choice():\n",
    "    \n",
    "    choice = 'WRONG, NERD'\n",
    "    within_range = False\n",
    "    \n",
    "    \n",
    "    while choice.isdigit() == False or within_range == False:\n",
    "        #this asks whether input is a series of digits and keeps asking if it isn't\n",
    "        \n",
    "        choice = input('Pleaser enter a number (0-10): ')\n",
    "        \n",
    "        if choice.isdigit() == False:\n",
    "            print('Numbers, ya numbskull')\n",
    "        \n",
    "        if choice.isdigit() == True:\n",
    "            if int(choice) in range(0,11):\n",
    "                within_range = True\n",
    "            else:\n",
    "                print('Get it in the hole, sureshot')\n",
    "    \n",
    "    return int(choice)"
   ]
  },
  {
   "cell_type": "code",
   "execution_count": 5,
   "metadata": {},
   "outputs": [
    {
     "name": "stdout",
     "output_type": "stream",
     "text": [
      "Pleaser enter a number (0-10): \n",
      "Numbers, ya numbskull\n",
      "Pleaser enter a number (0-10): \n",
      "Numbers, ya numbskull\n",
      "Pleaser enter a number (0-10): \n",
      "Numbers, ya numbskull\n",
      "Pleaser enter a number (0-10): \n",
      "Numbers, ya numbskull\n",
      "Pleaser enter a number (0-10): 1\n"
     ]
    },
    {
     "data": {
      "text/plain": [
       "1"
      ]
     },
     "execution_count": 5,
     "metadata": {},
     "output_type": "execute_result"
    }
   ],
   "source": [
    "user_choice()"
   ]
  },
  {
   "cell_type": "code",
   "execution_count": 6,
   "metadata": {},
   "outputs": [
    {
     "data": {
      "text/plain": [
       "False"
      ]
     },
     "execution_count": 6,
     "metadata": {},
     "output_type": "execute_result"
    }
   ],
   "source": [
    "10 in range(0,10)"
   ]
  },
  {
   "cell_type": "code",
   "execution_count": null,
   "metadata": {},
   "outputs": [],
   "source": []
  },
  {
   "cell_type": "markdown",
   "metadata": {},
   "source": [
    "# Creating a small game"
   ]
  },
  {
   "cell_type": "code",
   "execution_count": 7,
   "metadata": {},
   "outputs": [],
   "source": [
    "game_list = [0,1,2]\n",
    "\n",
    "def play_game(game_list):\n",
    "    print('Here is the current list:')\n",
    "    print(game_list)\n",
    "    \n",
    "# creates and prints out the current list\n",
    "    "
   ]
  },
  {
   "cell_type": "code",
   "execution_count": 8,
   "metadata": {},
   "outputs": [
    {
     "name": "stdout",
     "output_type": "stream",
     "text": [
      "Here is the current list:\n",
      "[0, 1, 2]\n"
     ]
    }
   ],
   "source": [
    "play_game(game_list)"
   ]
  },
  {
   "cell_type": "code",
   "execution_count": 9,
   "metadata": {},
   "outputs": [],
   "source": [
    "def position_choice():\n",
    "    \n",
    "    choice = 'WRONG, NERD'\n",
    "    within_range = False\n",
    "    \n",
    "    \n",
    "    while choice.isdigit() == False or within_range == False:\n",
    "        #this asks whether input is a series of digits and keeps asking if it isn't\n",
    "        \n",
    "        choice = input('Pick a spot 0, 1, or 2: ')\n",
    "        \n",
    "        if choice.isdigit() == False:\n",
    "            print('Numbers, ya numbskull')\n",
    "        \n",
    "        if choice.isdigit() == True:\n",
    "            if int(choice) in range(0,3):\n",
    "                within_range = True\n",
    "            else:\n",
    "                print('Get it in the hole, sureshot')\n",
    "    \n",
    "    return int(choice)"
   ]
  },
  {
   "cell_type": "code",
   "execution_count": 10,
   "metadata": {},
   "outputs": [],
   "source": [
    "def replacement_choice(game_list, position):\n",
    "    \n",
    "    user_placement = input(\"type a string to place in that position: \")\n",
    "    \n",
    "    game_list[position] = user_placement\n",
    "    \n",
    "    return game_list"
   ]
  },
  {
   "cell_type": "code",
   "execution_count": 11,
   "metadata": {},
   "outputs": [],
   "source": [
    "def gameon_choice():\n",
    "    \n",
    "    choice = 'WRONG, NERD'\n",
    "    \n",
    "    \n",
    "    while choice not in ['Y', 'N']:\n",
    "        \n",
    "        choice = input ('Keep playing yay or nay? (Y or N)')\n",
    "        \n",
    "        if choice not in [\"Y\", \"N\"]:\n",
    "            print(\"ANSWER THE QUESTION JACKWAGON!\")\n",
    "    \n",
    "    if choice == \"Y\":\n",
    "        return True\n",
    "    else:\n",
    "        return False"
   ]
  },
  {
   "cell_type": "code",
   "execution_count": 12,
   "metadata": {},
   "outputs": [
    {
     "name": "stdout",
     "output_type": "stream",
     "text": [
      "Keep playing yay or nay? (Y or N)N\n"
     ]
    },
    {
     "data": {
      "text/plain": [
       "False"
      ]
     },
     "execution_count": 12,
     "metadata": {},
     "output_type": "execute_result"
    }
   ],
   "source": [
    "gameon_choice()"
   ]
  },
  {
   "cell_type": "code",
   "execution_count": 13,
   "metadata": {},
   "outputs": [
    {
     "name": "stdout",
     "output_type": "stream",
     "text": [
      "Here is the current list:\n",
      "[0, 1, 2]\n",
      "Pick a spot 0, 1, or 2: 2\n",
      "type a string to place in that position: hoe breath\n",
      "Here is the current list:\n",
      "[0, 1, 'hoe breath']\n",
      "Keep playing yay or nay? (Y or N)n\n",
      "ANSWER THE QUESTION JACKWAGON!\n",
      "Keep playing yay or nay? (Y or N)N\n"
     ]
    }
   ],
   "source": [
    "game_go = True\n",
    "game_list = [0,1,2]\n",
    "\n",
    "while game_go:\n",
    "    play_game(game_list)\n",
    "    \n",
    "    position = position_choice()\n",
    "    \n",
    "    game_list = replacement_choice(game_list, position)\n",
    "    \n",
    "    play_game(game_list)\n",
    "    \n",
    "    game_go = gameon_choice()"
   ]
  },
  {
   "cell_type": "code",
   "execution_count": 1,
   "metadata": {},
   "outputs": [
    {
     "ename": "SyntaxError",
     "evalue": "EOL while scanning string literal (<ipython-input-1-750625ec1d41>, line 1)",
     "output_type": "error",
     "traceback": [
      "\u001b[1;36m  File \u001b[1;32m\"<ipython-input-1-750625ec1d41>\"\u001b[1;36m, line \u001b[1;32m1\u001b[0m\n\u001b[1;33m    print('hi\u001b[0m\n\u001b[1;37m             ^\u001b[0m\n\u001b[1;31mSyntaxError\u001b[0m\u001b[1;31m:\u001b[0m EOL while scanning string literal\n"
     ]
    }
   ],
   "source": [
    "print('hi\n",
    "    ')"
   ]
  },
  {
   "cell_type": "markdown",
   "metadata": {},
   "source": [
    "-----"
   ]
  },
  {
   "cell_type": "markdown",
   "metadata": {},
   "source": [
    "# TIC TAC TOE PROJECT"
   ]
  },
  {
   "cell_type": "markdown",
   "metadata": {},
   "source": [
    "Steps:\n",
    "1) Take input from player 1 /n\n",
    "    1b) If X ----> Player 2 == O and if O Player 2 == X//\n",
    "2) Print out board with 1-9 in spaces//\n",
    "3) \"Pick a position\"  (1st player picks)//\n",
    "4) Replace 1-9 with X or O//\n",
    "    4b) Check if there are 3 in a row (horizontal, vertical, diagonal) //\n",
    "    4c) If 4b ----> Game over, if not, 5///\n",
    "5) Repeat 3-4c//\n",
    "6) Ask to play again//\n",
    "\n"
   ]
  },
  {
   "cell_type": "markdown",
   "metadata": {},
   "source": [
    "# Step 1: print out board"
   ]
  },
  {
   "cell_type": "code",
   "execution_count": 2,
   "metadata": {},
   "outputs": [],
   "source": [
    "\n",
    "\n",
    "\n",
    "# Print board\n",
    "from IPython.display import clear_output\n",
    "\n",
    "board = ['',1,2,3,4,5,6,7,8,9]\n",
    "def current_board(board):\n",
    "    clear_output()\n",
    "    \n",
    "    winner = False\n",
    "    \n",
    "    while winner == False:\n",
    "        \n",
    "        print('Here is the current board:')\n",
    "        \n",
    "        print(board[1],' | ', board[2], ' | ', board[3])\n",
    "        print('--------------')\n",
    "        print(board[4],' | ', board[5], ' | ', board[6])\n",
    "        print('--------------')\n",
    "        print(board[7],' | ', board[8], ' | ', board[9])\n",
    "    \n",
    "        break\n",
    "    \n",
    "        \n",
    "        \n",
    "    "
   ]
  },
  {
   "cell_type": "code",
   "execution_count": 3,
   "metadata": {},
   "outputs": [
    {
     "name": "stdout",
     "output_type": "stream",
     "text": [
      "Here is the current board:\n",
      "1  |  2  |  3\n",
      "--------------\n",
      "4  |  5  |  6\n",
      "--------------\n",
      "7  |  8  |  9\n"
     ]
    }
   ],
   "source": [
    "current_board(board)"
   ]
  },
  {
   "cell_type": "markdown",
   "metadata": {},
   "source": [
    "# Step 2: Players choose characters"
   ]
  },
  {
   "cell_type": "code",
   "execution_count": 4,
   "metadata": {},
   "outputs": [],
   "source": [
    "def XorO():\n",
    "    \n",
    "    marker = ''\n",
    "    \n",
    "    \n",
    "    while marker not in ['X', 'O','x','o']:\n",
    "        \n",
    "        marker = input('Wanna be X or O:').upper()\n",
    "    \n",
    "        if marker not in ['X', 'O','x','o']:\n",
    "            print('X or O, ya jackwagon')\n",
    "        \n",
    "           \n",
    "        else:\n",
    "            print('Player 1 is :', marker.upper())\n",
    "    Player1 = marker\n",
    "    if Player1 == 'X':\n",
    "        Player2 = 'O'\n",
    "    if Player1 in ['O','o']:\n",
    "        Player2 = 'X'       \n",
    "    \n",
    "    print('Player 2 is :', Player2.upper())\n",
    "    return(Player1, Player2)    \n",
    "    \n",
    "            \n",
    "            "
   ]
  },
  {
   "cell_type": "code",
   "execution_count": 5,
   "metadata": {},
   "outputs": [],
   "source": [
    "def playermarker(board, marker, position):\n",
    "    \n",
    "    board[position] = marker\n",
    "    \n",
    "    \n",
    "        \n",
    "        \n",
    "        "
   ]
  },
  {
   "cell_type": "code",
   "execution_count": 6,
   "metadata": {},
   "outputs": [],
   "source": [
    "def win_check(board, marker):\n",
    "    \n",
    "     return((board[1] == board[2] == board[3] == marker)\n",
    "            \n",
    "       or (board[4] == board[5] == board[6] == marker)\n",
    "            \n",
    "       or (board[7] == board[8] == board[9]== marker)\n",
    "            \n",
    "       or (board[1] == board[4] == board[7]== marker)\n",
    "            \n",
    "       or (board[2] == board[5] == board[8] == marker)\n",
    "            \n",
    "        or (board[3] == board[6] == board[9] == marker)\n",
    "            \n",
    "       or (board[1] == board[5] == board[9] == marker)\n",
    "        \n",
    "       or (board[7] == board[5] == board[3] == marker))\n",
    "        "
   ]
  },
  {
   "cell_type": "code",
   "execution_count": 7,
   "metadata": {},
   "outputs": [],
   "source": [
    "#check if space is open\n",
    "\n",
    "def space_check(board, position):\n",
    "    if board[position] in range(1,10):\n",
    "        return True\n",
    "    else:\n",
    "        return False\n"
   ]
  },
  {
   "cell_type": "code",
   "execution_count": 8,
   "metadata": {},
   "outputs": [],
   "source": [
    "#check if full\n",
    "\n",
    "def full_board(board):\n",
    "    \n",
    "    for i in range(1, 10):\n",
    "        if space_check(board,i):\n",
    "            return False"
   ]
  },
  {
   "cell_type": "code",
   "execution_count": 9,
   "metadata": {},
   "outputs": [],
   "source": [
    "#asks for next position\n",
    "\n",
    "def player_choice(board):\n",
    "    position = 0\n",
    "    \n",
    "    while position not in [1,2,3,4,5,6,7,8,9] or not space_check(board, position):\n",
    "        position = int(input('Choose a spot: '))\n",
    "    return position"
   ]
  },
  {
   "cell_type": "code",
   "execution_count": 10,
   "metadata": {},
   "outputs": [],
   "source": [
    "def replay():\n",
    "    input('Play again? Y or N')\n",
    "    \n",
    "    return choice == \"Y\""
   ]
  },
  {
   "cell_type": "code",
   "execution_count": 11,
   "metadata": {},
   "outputs": [],
   "source": [
    "import random\n",
    "\n",
    "def go_first():\n",
    "    if random.randint(0, 1) == 0:\n",
    "        return 'Player 2'\n",
    "    else:\n",
    "        return 'Player 1'"
   ]
  },
  {
   "cell_type": "code",
   "execution_count": 12,
   "metadata": {},
   "outputs": [],
   "source": [
    "def replay():\n",
    "    return(input(\"Do you wanna play again?\").lower().startswith('y'))"
   ]
  },
  {
   "cell_type": "code",
   "execution_count": 13,
   "metadata": {},
   "outputs": [
    {
     "name": "stdout",
     "output_type": "stream",
     "text": [
      "Here is the current board:\n",
      "O  |  X  |  X\n",
      "--------------\n",
      "O  |  O  |  6\n",
      "--------------\n",
      "O  |  8  |  X\n",
      "This guy won!!\n",
      "Do you wanna play again?n\n"
     ]
    }
   ],
   "source": [
    "#need a while loop to continue game\n",
    "\n",
    "print('Welcome to the game nerds')\n",
    "\n",
    "while True:\n",
    "    \n",
    "    \n",
    "    board = ['',1,2,3,4,5,6,7,8,9]\n",
    "    \n",
    "    Player1_marker, Player2_marker = XorO()\n",
    "    turn = go_first()\n",
    "    print(turn + ' is gonna go first')\n",
    "    play_game = input('Ready to play? y or n')\n",
    "    \n",
    "    if play_game == 'y':\n",
    "        game_on = True\n",
    "    else:\n",
    "        game_on = False\n",
    "        \n",
    "#Game play happens here\n",
    "\n",
    "    while game_on:\n",
    "        if turn == 'Player 1':\n",
    "            \n",
    "            current_board(board)\n",
    "            \n",
    "            #choose a position\n",
    "            position = player_choice(board)\n",
    "            #place marker\n",
    "            playermarker(board, Player1_marker, position)\n",
    "            \n",
    "            #check if they won\n",
    "            if win_check(board, Player1_marker):\n",
    "                current_board(board)\n",
    "                print(\"This guy won!!\")\n",
    "                game_on = False\n",
    "                \n",
    "            else:\n",
    "                if full_board(board):\n",
    "                    current_board(board)\n",
    "                    print(\"Cat's game suckas\")\n",
    "                    break\n",
    "                else:\n",
    "                    turn = 'Player 2'\n",
    "        else:\n",
    "            \n",
    "             \n",
    "            current_board(board)\n",
    "            \n",
    "            #choose a position\n",
    "            position = player_choice(board)\n",
    "            #place marker\n",
    "            playermarker(board, Player2_marker, position)\n",
    "            \n",
    "            #check if they won\n",
    "            if win_check(board, Player2_marker):\n",
    "                current_board(board)\n",
    "                print(\"This guy won!!\")\n",
    "                game_on = False\n",
    "                \n",
    "            else:\n",
    "                if full_board(board):\n",
    "                    current_board(board)\n",
    "                    print(\"Cat's game suckas\")\n",
    "                    break\n",
    "                else:\n",
    "                    turn = 'Player 1'\n",
    "                    \n",
    "    if not replay():\n",
    "        break\n",
    "\n",
    "\n",
    "#break out of while loop with replay fcn"
   ]
  },
  {
   "cell_type": "markdown",
   "metadata": {},
   "source": [
    "#### "
   ]
  },
  {
   "cell_type": "code",
   "execution_count": null,
   "metadata": {},
   "outputs": [],
   "source": []
  }
 ],
 "metadata": {
  "kernelspec": {
   "display_name": "Python 3",
   "language": "python",
   "name": "python3"
  }
 },
 "nbformat": 4,
 "nbformat_minor": 2
}
